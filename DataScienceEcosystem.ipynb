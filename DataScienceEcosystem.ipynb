{
 "cells": [
  {
   "cell_type": "markdown",
   "id": "c9a2f005",
   "metadata": {},
   "source": [
    "# Data Science Tools and Ecosystem"
   ]
  },
  {
   "cell_type": "code",
   "execution_count": null,
   "id": "19f0694f",
   "metadata": {},
   "outputs": [],
   "source": [
    "In this notebook, Data Science Tools and Ecosystem are summarized."
   ]
  },
  {
   "cell_type": "code",
   "execution_count": null,
   "id": "3a300450",
   "metadata": {},
   "outputs": [],
   "source": [
    "## Objectives:\n",
    ". Arithmetic\n",
    ". Data science\n",
    ". Jupyter Markdown cell\n",
    ". Creating Tables \n",
    ". Headings\n"
   ]
  },
  {
   "cell_type": "code",
   "execution_count": null,
   "id": "e2be1bbe",
   "metadata": {},
   "outputs": [],
   "source": [
    "Some of the popular languages that Data Scientists use are:\n",
    "    1. Python\n",
    "    2. SQL\n",
    "    3. R\n",
    "    4. Julian\n",
    "    5. Java"
   ]
  },
  {
   "cell_type": "code",
   "execution_count": null,
   "id": "724862b5",
   "metadata": {},
   "outputs": [],
   "source": [
    "Some of the commonly used libraries used by Data Scientists include:\n",
    "    1. TensorFlow \n",
    "    2. NumPy \n",
    "    3. SciPy \n",
    "    4. Pandas \n",
    "    5. PyTorch."
   ]
  },
  {
   "cell_type": "code",
   "execution_count": null,
   "id": "ae0caa13",
   "metadata": {},
   "outputs": [],
   "source": [
    "|  Data Science Tools  |\n",
    "|---|\n",
    "|  RStudio  |\n",
    "|  Apache Spark  |\n",
    "|  TensorFlow  |"
   ]
  },
  {
   "cell_type": "code",
   "execution_count": 1,
   "id": "18357ccd",
   "metadata": {},
   "outputs": [
    {
     "data": {
      "text/plain": [
       "17"
      ]
     },
     "execution_count": 1,
     "metadata": {},
     "output_type": "execute_result"
    }
   ],
   "source": [
    "### Below are a few examples of evaluating arithmetic expressions in Python.\n",
    "(3*4)+5  # This a simple arithmetic expression to mutiply then add integers.\n"
   ]
  },
  {
   "cell_type": "code",
   "execution_count": 2,
   "id": "659997c1",
   "metadata": {},
   "outputs": [
    {
     "data": {
      "text/plain": [
       "3.3333333333333335"
      ]
     },
     "execution_count": 2,
     "metadata": {},
     "output_type": "execute_result"
    }
   ],
   "source": [
    "200/60 # This will convert 200 minutes to hours by diving by 60"
   ]
  },
  {
   "cell_type": "code",
   "execution_count": null,
   "id": "17b552f6",
   "metadata": {},
   "outputs": [],
   "source": [
    "## Author\n",
    "Jonathan"
   ]
  }
 ],
 "metadata": {
  "kernelspec": {
   "display_name": "Python 3 (ipykernel)",
   "language": "python",
   "name": "python3"
  },
  "language_info": {
   "codemirror_mode": {
    "name": "ipython",
    "version": 3
   },
   "file_extension": ".py",
   "mimetype": "text/x-python",
   "name": "python",
   "nbconvert_exporter": "python",
   "pygments_lexer": "ipython3",
   "version": "3.10.9"
  }
 },
 "nbformat": 4,
 "nbformat_minor": 5
}
